{
 "cells": [
  {
   "cell_type": "markdown",
   "id": "considerable-constant",
   "metadata": {},
   "source": [
    "# TF_IDF and Baseline Model - Random Forest Classifier"
   ]
  },
  {
   "cell_type": "code",
   "execution_count": 1,
   "id": "sealed-breakfast",
   "metadata": {
    "colab": {
     "base_uri": "https://localhost:8080/"
    },
    "id": "sealed-breakfast",
    "outputId": "a309d71e-cdba-4ab7-9ea5-a88a9e7639bb"
   },
   "outputs": [],
   "source": [
    "# importing libraries\n",
    "\n",
    "# for data manipulation\n",
    "import pandas as pd\n",
    "\n",
    "# plotting libraries\n",
    "import matplotlib.pyplot as plt\n",
    "import seaborn as sns\n",
    "\n",
    "%matplotlib inline\n",
    "\n",
    "# to vectorize text data\n",
    "from sklearn.feature_extraction.text import TfidfVectorizer\n",
    "\n",
    "# scikit model used\n",
    "from sklearn.ensemble import RandomForestClassifier\n",
    "\n",
    "# metrics for model evaluation\n",
    "from sklearn.metrics import classification_report, confusion_matrix, accuracy_score"
   ]
  },
  {
   "cell_type": "code",
   "execution_count": 2,
   "id": "according-finish",
   "metadata": {
    "id": "according-finish"
   },
   "outputs": [],
   "source": [
    "# importing training dataset\n",
    "train = pd.read_csv('ticket_train.csv')\n",
    "\n",
    "# importing validating dataset\n",
    "valid = pd.read_csv('ticket_valid.csv')"
   ]
  },
  {
   "cell_type": "code",
   "execution_count": 3,
   "id": "blessed-fifteen",
   "metadata": {
    "colab": {
     "base_uri": "https://localhost:8080/",
     "height": 255
    },
    "id": "blessed-fifteen",
    "outputId": "88cceaf1-eb87-4173-e1d1-fcb08892bec8"
   },
   "outputs": [
    {
     "data": {
      "text/html": [
       "<div>\n",
       "<style scoped>\n",
       "    .dataframe tbody tr th:only-of-type {\n",
       "        vertical-align: middle;\n",
       "    }\n",
       "\n",
       "    .dataframe tbody tr th {\n",
       "        vertical-align: top;\n",
       "    }\n",
       "\n",
       "    .dataframe thead th {\n",
       "        text-align: right;\n",
       "    }\n",
       "</style>\n",
       "<table border=\"1\" class=\"dataframe\">\n",
       "  <thead>\n",
       "    <tr style=\"text-align: right;\">\n",
       "      <th></th>\n",
       "      <th>ticket_type</th>\n",
       "      <th>category</th>\n",
       "      <th>sub_category1</th>\n",
       "      <th>sub_category2</th>\n",
       "      <th>business_service</th>\n",
       "      <th>urgency</th>\n",
       "      <th>impact</th>\n",
       "      <th>info</th>\n",
       "    </tr>\n",
       "  </thead>\n",
       "  <tbody>\n",
       "    <tr>\n",
       "      <th>0</th>\n",
       "      <td>1</td>\n",
       "      <td>5</td>\n",
       "      <td>13</td>\n",
       "      <td>105</td>\n",
       "      <td>32</td>\n",
       "      <td>3</td>\n",
       "      <td>4</td>\n",
       "      <td>search for old outlook thursday octob old hi f...</td>\n",
       "    </tr>\n",
       "    <tr>\n",
       "      <th>1</th>\n",
       "      <td>1</td>\n",
       "      <td>4</td>\n",
       "      <td>1</td>\n",
       "      <td>7</td>\n",
       "      <td>46</td>\n",
       "      <td>3</td>\n",
       "      <td>4</td>\n",
       "      <td>want to access account document want document ...</td>\n",
       "    </tr>\n",
       "    <tr>\n",
       "      <th>2</th>\n",
       "      <td>1</td>\n",
       "      <td>4</td>\n",
       "      <td>1</td>\n",
       "      <td>7</td>\n",
       "      <td>65</td>\n",
       "      <td>3</td>\n",
       "      <td>4</td>\n",
       "      <td>access right tuesday pm right hi instal comput...</td>\n",
       "    </tr>\n",
       "    <tr>\n",
       "      <th>3</th>\n",
       "      <td>0</td>\n",
       "      <td>4</td>\n",
       "      <td>21</td>\n",
       "      <td>41</td>\n",
       "      <td>32</td>\n",
       "      <td>1</td>\n",
       "      <td>3</td>\n",
       "      <td>plea someon come and check the excel on thi co...</td>\n",
       "    </tr>\n",
       "    <tr>\n",
       "      <th>4</th>\n",
       "      <td>0</td>\n",
       "      <td>4</td>\n",
       "      <td>21</td>\n",
       "      <td>77</td>\n",
       "      <td>65</td>\n",
       "      <td>1</td>\n",
       "      <td>3</td>\n",
       "      <td>not work via sent thursday work via hi tri acc...</td>\n",
       "    </tr>\n",
       "  </tbody>\n",
       "</table>\n",
       "</div>"
      ],
      "text/plain": [
       "   ticket_type  category  sub_category1  sub_category2  business_service  \\\n",
       "0            1         5             13            105                32   \n",
       "1            1         4              1              7                46   \n",
       "2            1         4              1              7                65   \n",
       "3            0         4             21             41                32   \n",
       "4            0         4             21             77                65   \n",
       "\n",
       "   urgency  impact                                               info  \n",
       "0        3       4  search for old outlook thursday octob old hi f...  \n",
       "1        3       4  want to access account document want document ...  \n",
       "2        3       4  access right tuesday pm right hi instal comput...  \n",
       "3        1       3  plea someon come and check the excel on thi co...  \n",
       "4        1       3  not work via sent thursday work via hi tri acc...  "
      ]
     },
     "execution_count": 3,
     "metadata": {},
     "output_type": "execute_result"
    }
   ],
   "source": [
    "# top 5 records\n",
    "train.head()"
   ]
  },
  {
   "cell_type": "code",
   "execution_count": 4,
   "id": "deadly-bathroom",
   "metadata": {
    "scrolled": true
   },
   "outputs": [
    {
     "data": {
      "text/html": [
       "<div>\n",
       "<style scoped>\n",
       "    .dataframe tbody tr th:only-of-type {\n",
       "        vertical-align: middle;\n",
       "    }\n",
       "\n",
       "    .dataframe tbody tr th {\n",
       "        vertical-align: top;\n",
       "    }\n",
       "\n",
       "    .dataframe thead th {\n",
       "        text-align: right;\n",
       "    }\n",
       "</style>\n",
       "<table border=\"1\" class=\"dataframe\">\n",
       "  <thead>\n",
       "    <tr style=\"text-align: right;\">\n",
       "      <th></th>\n",
       "      <th>ticket_type</th>\n",
       "      <th>category</th>\n",
       "      <th>sub_category1</th>\n",
       "      <th>sub_category2</th>\n",
       "      <th>business_service</th>\n",
       "      <th>urgency</th>\n",
       "      <th>impact</th>\n",
       "      <th>info</th>\n",
       "    </tr>\n",
       "  </thead>\n",
       "  <tbody>\n",
       "    <tr>\n",
       "      <th>0</th>\n",
       "      <td>1</td>\n",
       "      <td>4</td>\n",
       "      <td>1</td>\n",
       "      <td>21</td>\n",
       "      <td>35</td>\n",
       "      <td>3</td>\n",
       "      <td>4</td>\n",
       "      <td>pend expen claim juli pm re pend expen claim h...</td>\n",
       "    </tr>\n",
       "    <tr>\n",
       "      <th>1</th>\n",
       "      <td>1</td>\n",
       "      <td>5</td>\n",
       "      <td>13</td>\n",
       "      <td>7</td>\n",
       "      <td>32</td>\n",
       "      <td>3</td>\n",
       "      <td>4</td>\n",
       "      <td>us adapt adapt dear near futur go plea help pl...</td>\n",
       "    </tr>\n",
       "    <tr>\n",
       "      <th>2</th>\n",
       "      <td>0</td>\n",
       "      <td>4</td>\n",
       "      <td>51</td>\n",
       "      <td>78</td>\n",
       "      <td>4</td>\n",
       "      <td>2</td>\n",
       "      <td>0</td>\n",
       "      <td>intern audit leaver vs activ ad account leaver...</td>\n",
       "    </tr>\n",
       "    <tr>\n",
       "      <th>3</th>\n",
       "      <td>1</td>\n",
       "      <td>4</td>\n",
       "      <td>2</td>\n",
       "      <td>88</td>\n",
       "      <td>68</td>\n",
       "      <td>3</td>\n",
       "      <td>4</td>\n",
       "      <td>oracl list expen report pm expen report hi how...</td>\n",
       "    </tr>\n",
       "    <tr>\n",
       "      <th>4</th>\n",
       "      <td>1</td>\n",
       "      <td>4</td>\n",
       "      <td>3</td>\n",
       "      <td>88</td>\n",
       "      <td>56</td>\n",
       "      <td>3</td>\n",
       "      <td>4</td>\n",
       "      <td>cancel incid with progress task cancel incid p...</td>\n",
       "    </tr>\n",
       "  </tbody>\n",
       "</table>\n",
       "</div>"
      ],
      "text/plain": [
       "   ticket_type  category  sub_category1  sub_category2  business_service  \\\n",
       "0            1         4              1             21                35   \n",
       "1            1         5             13              7                32   \n",
       "2            0         4             51             78                 4   \n",
       "3            1         4              2             88                68   \n",
       "4            1         4              3             88                56   \n",
       "\n",
       "   urgency  impact                                               info  \n",
       "0        3       4  pend expen claim juli pm re pend expen claim h...  \n",
       "1        3       4  us adapt adapt dear near futur go plea help pl...  \n",
       "2        2       0  intern audit leaver vs activ ad account leaver...  \n",
       "3        3       4  oracl list expen report pm expen report hi how...  \n",
       "4        3       4  cancel incid with progress task cancel incid p...  "
      ]
     },
     "execution_count": 4,
     "metadata": {},
     "output_type": "execute_result"
    }
   ],
   "source": [
    "# top 5 records\n",
    "valid.head()"
   ]
  },
  {
   "cell_type": "markdown",
   "id": "substantial-developer",
   "metadata": {},
   "source": [
    "# TF-IDF transformation of training and validating set"
   ]
  },
  {
   "cell_type": "markdown",
   "id": "legislative-tobacco",
   "metadata": {},
   "source": [
    "### Training dataset"
   ]
  },
  {
   "cell_type": "code",
   "execution_count": 11,
   "id": "handy-fairy",
   "metadata": {
    "id": "handy-fairy"
   },
   "outputs": [],
   "source": [
    "# vectorizer instance\n",
    "tfidf = TfidfVectorizer(max_features=5000)"
   ]
  },
  {
   "cell_type": "code",
   "execution_count": 13,
   "id": "similar-street",
   "metadata": {
    "colab": {
     "base_uri": "https://localhost:8080/",
     "height": 253
    },
    "id": "similar-street",
    "outputId": "2eeac36e-b526-4d8b-f84a-a7447e375f2f"
   },
   "outputs": [],
   "source": [
    "# fitting and transforming tfidf vectorizer\n",
    "tfidf_train_df = tfidf.fit_transform(train['info'])"
   ]
  },
  {
   "cell_type": "markdown",
   "id": "female-textbook",
   "metadata": {},
   "source": [
    "### Validating dataset"
   ]
  },
  {
   "cell_type": "code",
   "execution_count": 14,
   "id": "rental-unknown",
   "metadata": {
    "scrolled": true
   },
   "outputs": [],
   "source": [
    "# transforming the valid dataset's info column using tfidf vectorizer\n",
    "tfidf_valid_df = tfidf.transform(valid['info'])"
   ]
  },
  {
   "cell_type": "markdown",
   "id": "junior-colombia",
   "metadata": {},
   "source": [
    "# Data Modelling\n",
    "\n",
    "Here, I am considering Random Forest Classifier, to predict the ticket-type by using rest features."
   ]
  },
  {
   "cell_type": "code",
   "execution_count": 15,
   "id": "realistic-peninsula",
   "metadata": {},
   "outputs": [],
   "source": [
    "# features and target of training dataset\n",
    "X_train = tfidf_train_df\n",
    "y_train = train['ticket_type']\n",
    "\n",
    "# features and target of validating dataset\n",
    "X_valid = tfidf_valid_df\n",
    "y_valid = valid['ticket_type']"
   ]
  },
  {
   "cell_type": "code",
   "execution_count": 16,
   "id": "herbal-teens",
   "metadata": {},
   "outputs": [],
   "source": [
    "# creating Random Forest Classifier instance\n",
    "RFClf = RandomForestClassifier(random_state=35)"
   ]
  },
  {
   "cell_type": "code",
   "execution_count": 17,
   "id": "opponent-treasury",
   "metadata": {},
   "outputs": [
    {
     "data": {
      "text/plain": [
       "RandomForestClassifier(random_state=35)"
      ]
     },
     "execution_count": 17,
     "metadata": {},
     "output_type": "execute_result"
    }
   ],
   "source": [
    "# fitting the model with training features and target\n",
    "RFClf.fit(X_train,y_train)"
   ]
  },
  {
   "cell_type": "code",
   "execution_count": 18,
   "id": "royal-citation",
   "metadata": {},
   "outputs": [],
   "source": [
    "# predicting validating dataset ticket-type using validation dataset's features\n",
    "y_valid_preds = RFClf.predict(X_valid)"
   ]
  },
  {
   "cell_type": "markdown",
   "id": "fifty-wallpaper",
   "metadata": {},
   "source": [
    "# Model Evaluation"
   ]
  },
  {
   "cell_type": "code",
   "execution_count": 19,
   "id": "activated-first",
   "metadata": {},
   "outputs": [
    {
     "data": {
      "image/png": "[encoded data removed]",
      "text/plain": [
       "<Figure size 432x288 with 2 Axes>"
      ]
     },
     "metadata": {
      "needs_background": "light"
     },
     "output_type": "display_data"
    }
   ],
   "source": [
    "con_mat = confusion_matrix(y_valid, y_valid_preds)\n",
    "sns.heatmap(con_mat, annot=True, fmt='.0f', square=True)\n",
    "plt.xlabel('Prediction')\n",
    "plt.ylabel('Acutal')\n",
    "plt.show()"
   ]
  },
  {
   "cell_type": "code",
   "execution_count": 20,
   "id": "olympic-theology",
   "metadata": {},
   "outputs": [
    {
     "name": "stdout",
     "output_type": "stream",
     "text": [
      "Model accuracy score = 99.18%.\n"
     ]
    }
   ],
   "source": [
    "acc = accuracy_score(y_valid, y_valid_preds)\n",
    "print(f'Model accuracy score = {acc*100:0.2f}%.')"
   ]
  },
  {
   "cell_type": "code",
   "execution_count": 21,
   "id": "through-aerospace",
   "metadata": {
    "scrolled": true
   },
   "outputs": [
    {
     "name": "stdout",
     "output_type": "stream",
     "text": [
      "              precision    recall  f1-score   support\n",
      "\n",
      "           0       0.99      0.98      0.99      1393\n",
      "           1       0.99      1.00      0.99      3462\n",
      "\n",
      "    accuracy                           0.99      4855\n",
      "   macro avg       0.99      0.99      0.99      4855\n",
      "weighted avg       0.99      0.99      0.99      4855\n",
      "\n"
     ]
    }
   ],
   "source": [
    "print(classification_report(y_valid, y_valid_preds))"
   ]
  }
 ],
 "metadata": {
  "colab": {
   "collapsed_sections": [],
   "name": "Untitled4.ipynb",
   "provenance": []
  },
  "kernelspec": {
   "display_name": "Python 3",
   "language": "python",
   "name": "python3"
  },
  "language_info": {
   "codemirror_mode": {
    "name": "ipython",
    "version": 3
   },
   "file_extension": ".py",
   "mimetype": "text/x-python",
   "name": "python",
   "nbconvert_exporter": "python",
   "pygments_lexer": "ipython3",
   "version": "3.9.2"
  }
 },
 "nbformat": 4,
 "nbformat_minor": 5
}
