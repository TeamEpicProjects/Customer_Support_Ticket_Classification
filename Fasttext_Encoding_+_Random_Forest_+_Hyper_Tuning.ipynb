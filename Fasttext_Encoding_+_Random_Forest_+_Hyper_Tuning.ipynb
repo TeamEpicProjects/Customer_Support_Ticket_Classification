{
  "nbformat": 4,
  "nbformat_minor": 0,
  "metadata": {
    "colab": {
      "name": "Fasttext Encoding + Random_Forest + Hyper Tuning",
      "provenance": [],
      "collapsed_sections": []
    },
    "kernelspec": {
      "name": "python3",
      "display_name": "Python 3"
    },
    "language_info": {
      "name": "python"
    },
    "accelerator": "GPU"
  },
  "cells": [
    {
      "cell_type": "markdown",
      "metadata": {
        "id": "08gBfWs2j_Bw"
      },
      "source": [
        "# Fasttext Encoding + Random Forest Classifier"
      ]
    },
    {
      "cell_type": "code",
      "metadata": {
        "id": "MetXd0s2Bdu1"
      },
      "source": [
        "#importing libraries\n",
        "\n",
        "# data manipulation\n",
        "import pandas as pd\n",
        "import numpy as np\n",
        "\n",
        "# plotting libraries\n",
        "import seaborn as sns\n",
        "import matplotlib.pyplot as plt\n",
        "%matplotlib inline\n",
        "\n",
        "# encoding text information usinf fasttext encoder\n",
        "from embedding_as_service.text.encode import Encoder\n",
        "\n",
        "# scikit model used\n",
        "from sklearn.ensemble import RandomForestClassifier\n",
        "\n",
        "# hypertuning model\n",
        "from sklearn.model_selection import RandomizedSearchCV\n",
        "\n",
        "# metrics for model evaluation\n",
        "from sklearn.metrics import classification_report, confusion_matrix, accuracy_score\n",
        "\n",
        "#removing warnings\n",
        "import warnings\n",
        "warnings.filterwarnings('ignore')"
      ],
      "execution_count": 20,
      "outputs": []
    },
    {
      "cell_type": "code",
      "metadata": {
        "id": "eNRDN9cUCLbf"
      },
      "source": [
        "train = pd.read_csv('/content/ticket_train.csv')\n",
        "valid = pd.read_csv('/content/ticket_valid.csv')"
      ],
      "execution_count": 2,
      "outputs": []
    },
    {
      "cell_type": "markdown",
      "metadata": {
        "id": "2C5IopTGp-uf"
      },
      "source": [
        "## Fasttext Encoding"
      ]
    },
    {
      "cell_type": "code",
      "metadata": {
        "id": "ksnmNeSmoew2",
        "colab": {
          "base_uri": "https://localhost:8080/"
        },
        "outputId": "48c8addb-ea48-4d56-83ec-2247f49f6b15"
      },
      "source": [
        "# initialising encoder\n",
        "fasttext_en = Encoder(embedding='fasttext', model='common_crawl_300')"
      ],
      "execution_count": 3,
      "outputs": [
        {
          "output_type": "stream",
          "text": [
            "Model does not exists, Downloading model: common_crawl_300\n",
            "[||||||||||||||||||||||||||||||||||||||||||||||||||] 100 % [1488071/1488071 kb]\n"
          ],
          "name": "stdout"
        },
        {
          "output_type": "stream",
          "text": [
            "900it [00:00, 8988.22it/s]"
          ],
          "name": "stderr"
        },
        {
          "output_type": "stream",
          "text": [
            "Model downloaded successfully!\n",
            "Loading Model (this might take few minutes).....\n"
          ],
          "name": "stdout"
        },
        {
          "output_type": "stream",
          "text": [
            "1999995it [03:58, 8371.33it/s]"
          ],
          "name": "stderr"
        },
        {
          "output_type": "stream",
          "text": [
            "Model loaded Successfully !\n"
          ],
          "name": "stdout"
        },
        {
          "output_type": "stream",
          "text": [
            "\n"
          ],
          "name": "stderr"
        }
      ]
    },
    {
      "cell_type": "markdown",
      "metadata": {
        "id": "rkMyqTFH0g6t"
      },
      "source": [
        "### Encoding training datasets"
      ]
    },
    {
      "cell_type": "code",
      "metadata": {
        "id": "4xYGMl6movI6"
      },
      "source": [
        "# encoding training dataset\n",
        "fasttext_train_vecs = fasttext_en.encode(texts = list(train['info'].values), pooling='reduce_mean')"
      ],
      "execution_count": 4,
      "outputs": []
    },
    {
      "cell_type": "code",
      "metadata": {
        "colab": {
          "base_uri": "https://localhost:8080/"
        },
        "id": "tdDfsSRaovCs",
        "outputId": "a4cb2a20-afd9-4a5d-cd89-32d996031c4e"
      },
      "source": [
        "fasttext_train_vecs.shape"
      ],
      "execution_count": 5,
      "outputs": [
        {
          "output_type": "execute_result",
          "data": {
            "text/plain": [
              "(38839, 300)"
            ]
          },
          "metadata": {},
          "execution_count": 5
        }
      ]
    },
    {
      "cell_type": "code",
      "metadata": {
        "colab": {
          "base_uri": "https://localhost:8080/"
        },
        "id": "XSpXYnatpy16",
        "outputId": "0646be6a-e7e1-4d71-b0a7-f7a7412243dc"
      },
      "source": [
        "fasttext_train_vecs"
      ],
      "execution_count": 6,
      "outputs": [
        {
          "output_type": "execute_result",
          "data": {
            "text/plain": [
              "array([[ 0.00728672, -0.00506562, -0.00520078, ...,  0.01057891,\n",
              "        -0.00600937, -0.00492188],\n",
              "       [ 0.00256172,  0.00128047, -0.00835781, ..., -0.01101406,\n",
              "         0.00139844,  0.01202734],\n",
              "       [-0.00926875,  0.02020156, -0.00615312, ..., -0.01895   ,\n",
              "        -0.00510313, -0.00916797],\n",
              "       ...,\n",
              "       [ 0.00094297, -0.00193359, -0.01193906, ..., -0.00394609,\n",
              "         0.00141016, -0.00152422],\n",
              "       [-0.00793906,  0.02531172, -0.01642422, ..., -0.00886953,\n",
              "         0.00726953, -0.000475  ],\n",
              "       [ 0.00910469,  0.04631719, -0.04369141, ...,  0.00188672,\n",
              "        -0.10274141, -0.05983047]])"
            ]
          },
          "metadata": {},
          "execution_count": 6
        }
      ]
    },
    {
      "cell_type": "markdown",
      "metadata": {
        "id": "iYTdforQypkz"
      },
      "source": [
        "### Encoding validating datasets"
      ]
    },
    {
      "cell_type": "code",
      "metadata": {
        "id": "GFUmc1PRypDY"
      },
      "source": [
        "# encoding validation dataset\n",
        "fasttext_valid_vecs = fasttext_en.encode(texts = list(valid['info'].values), pooling='reduce_mean')"
      ],
      "execution_count": 7,
      "outputs": []
    },
    {
      "cell_type": "code",
      "metadata": {
        "colab": {
          "base_uri": "https://localhost:8080/"
        },
        "id": "fBro5_Pvy3Wz",
        "outputId": "176862e6-46a6-4508-86cc-0018728ef229"
      },
      "source": [
        "fasttext_valid_vecs.shape"
      ],
      "execution_count": 8,
      "outputs": [
        {
          "output_type": "execute_result",
          "data": {
            "text/plain": [
              "(4855, 300)"
            ]
          },
          "metadata": {},
          "execution_count": 8
        }
      ]
    },
    {
      "cell_type": "markdown",
      "metadata": {
        "id": "hYF_TNTHotGs"
      },
      "source": [
        "## Modelling"
      ]
    },
    {
      "cell_type": "code",
      "metadata": {
        "id": "u28s2rNBzIfB"
      },
      "source": [
        "# creating Random Forest Classifier instance\n",
        "RFClf = RandomForestClassifier(random_state=35)"
      ],
      "execution_count": 9,
      "outputs": []
    },
    {
      "cell_type": "code",
      "metadata": {
        "colab": {
          "base_uri": "https://localhost:8080/"
        },
        "id": "OZEY_PLPzJpQ",
        "outputId": "4362580a-ac1c-46dd-d80c-89b32171e2f4"
      },
      "source": [
        "# fitting the model with training fasttext encoded vector and target ticket_type column\n",
        "RFClf.fit(fasttext_train_vecs, train['ticket_type'])"
      ],
      "execution_count": 10,
      "outputs": [
        {
          "output_type": "execute_result",
          "data": {
            "text/plain": [
              "RandomForestClassifier(bootstrap=True, ccp_alpha=0.0, class_weight=None,\n",
              "                       criterion='gini', max_depth=None, max_features='auto',\n",
              "                       max_leaf_nodes=None, max_samples=None,\n",
              "                       min_impurity_decrease=0.0, min_impurity_split=None,\n",
              "                       min_samples_leaf=1, min_samples_split=2,\n",
              "                       min_weight_fraction_leaf=0.0, n_estimators=100,\n",
              "                       n_jobs=None, oob_score=False, random_state=35, verbose=0,\n",
              "                       warm_start=False)"
            ]
          },
          "metadata": {},
          "execution_count": 10
        }
      ]
    },
    {
      "cell_type": "code",
      "metadata": {
        "id": "9tmKIzbhzRfu"
      },
      "source": [
        "# predicting validating dataset ticket-type using validation fasttext encoded vector\n",
        "y_valid_preds = RFClf.predict(fasttext_valid_vecs)"
      ],
      "execution_count": 11,
      "outputs": []
    },
    {
      "cell_type": "markdown",
      "metadata": {
        "id": "L78w8vjszYG_"
      },
      "source": [
        "## Model Evaluation"
      ]
    },
    {
      "cell_type": "code",
      "metadata": {
        "colab": {
          "base_uri": "https://localhost:8080/",
          "height": 279
        },
        "id": "TaAjbsTRzawL",
        "outputId": "141bec86-fd07-41f5-cf14-42a9801ce7e5"
      },
      "source": [
        "con_mat = confusion_matrix(valid['ticket_type'], y_valid_preds)\n",
        "sns.heatmap(con_mat, annot=True, fmt='.0f', square=True)\n",
        "plt.xlabel('Prediction')\n",
        "plt.ylabel('Acutal')\n",
        "plt.show()"
      ],
      "execution_count": 12,
      "outputs": [
        {
          "output_type": "display_data",
          "data": {
            "image/png": "[encoded data removed]",
            "text/plain": [
              "<Figure size 432x288 with 2 Axes>"
            ]
          },
          "metadata": {
            "needs_background": "light"
          }
        }
      ]
    },
    {
      "cell_type": "code",
      "metadata": {
        "colab": {
          "base_uri": "https://localhost:8080/"
        },
        "id": "zyzdnZ-DziAH",
        "outputId": "8c628c6d-dc5d-4a2d-f03b-3f63926553b0"
      },
      "source": [
        "acc = accuracy_score(valid['ticket_type'], y_valid_preds)\n",
        "print(f'Model accuracy score = {acc*100:0.2f}%.')"
      ],
      "execution_count": 13,
      "outputs": [
        {
          "output_type": "stream",
          "text": [
            "Model accuracy score = 93.55%.\n"
          ],
          "name": "stdout"
        }
      ]
    },
    {
      "cell_type": "code",
      "metadata": {
        "colab": {
          "base_uri": "https://localhost:8080/"
        },
        "id": "Y8D21PNW0CaM",
        "outputId": "a7b4a293-277a-4760-e7cb-b700be404758"
      },
      "source": [
        "print(classification_report(valid['ticket_type'], y_valid_preds))"
      ],
      "execution_count": 14,
      "outputs": [
        {
          "output_type": "stream",
          "text": [
            "              precision    recall  f1-score   support\n",
            "\n",
            "           0       0.95      0.82      0.88      1393\n",
            "           1       0.93      0.98      0.96      3462\n",
            "\n",
            "    accuracy                           0.94      4855\n",
            "   macro avg       0.94      0.90      0.92      4855\n",
            "weighted avg       0.94      0.94      0.93      4855\n",
            "\n"
          ],
          "name": "stdout"
        }
      ]
    },
    {
      "cell_type": "markdown",
      "metadata": {
        "id": "_2LQy3bfOIa3"
      },
      "source": [
        "### With class-weight='balanced'"
      ]
    },
    {
      "cell_type": "code",
      "metadata": {
        "id": "dU98nT3eN6Y7"
      },
      "source": [
        "# creating Random Forest Classifier instance\n",
        "RFClf_bal = RandomForestClassifier(random_state=35, class_weight='balanced')\n",
        "\n",
        "# fitting the model with training fasttext encoded vector and target ticket_type column\n",
        "RFClf_bal.fit(fasttext_train_vecs, train['ticket_type'])\n",
        "\n",
        "# predicting validating dataset ticket-type using validation fasttext encoded vector\n",
        "y_valid_preds_bal = RFClf_bal.predict(fasttext_valid_vecs)"
      ],
      "execution_count": 15,
      "outputs": []
    },
    {
      "cell_type": "code",
      "metadata": {
        "colab": {
          "base_uri": "https://localhost:8080/",
          "height": 279
        },
        "id": "k3X3EXWXOQB8",
        "outputId": "64facf69-8da6-4fda-d5ce-4612835dec68"
      },
      "source": [
        "con_mat = confusion_matrix(valid['ticket_type'], y_valid_preds_bal)\n",
        "sns.heatmap(con_mat, annot=True, fmt='.0f', square=True)\n",
        "plt.xlabel('Prediction')\n",
        "plt.ylabel('Acutal')\n",
        "plt.show()"
      ],
      "execution_count": 16,
      "outputs": [
        {
          "output_type": "display_data",
          "data": {
            "image/png": "[encoded data removed]",
            "text/plain": [
              "<Figure size 432x288 with 2 Axes>"
            ]
          },
          "metadata": {
            "needs_background": "light"
          }
        }
      ]
    },
    {
      "cell_type": "code",
      "metadata": {
        "colab": {
          "base_uri": "https://localhost:8080/"
        },
        "id": "CJlaCc9AOUJC",
        "outputId": "365c795e-eee5-4d1a-9226-114162ef645c"
      },
      "source": [
        "acc = accuracy_score(valid['ticket_type'], y_valid_preds_bal)\n",
        "print(f'Model accuracy score = {acc*100:0.2f}%.')"
      ],
      "execution_count": 17,
      "outputs": [
        {
          "output_type": "stream",
          "text": [
            "Model accuracy score = 93.39%.\n"
          ],
          "name": "stdout"
        }
      ]
    },
    {
      "cell_type": "code",
      "metadata": {
        "colab": {
          "base_uri": "https://localhost:8080/"
        },
        "id": "4Ih_wwrbOW4B",
        "outputId": "800df607-1c78-4879-c6b8-f0d8e63afe82"
      },
      "source": [
        "print(classification_report(valid['ticket_type'], y_valid_preds_bal))"
      ],
      "execution_count": 18,
      "outputs": [
        {
          "output_type": "stream",
          "text": [
            "              precision    recall  f1-score   support\n",
            "\n",
            "           0       0.96      0.80      0.87      1393\n",
            "           1       0.93      0.99      0.96      3462\n",
            "\n",
            "    accuracy                           0.93      4855\n",
            "   macro avg       0.94      0.89      0.91      4855\n",
            "weighted avg       0.94      0.93      0.93      4855\n",
            "\n"
          ],
          "name": "stdout"
        }
      ]
    },
    {
      "cell_type": "markdown",
      "metadata": {
        "id": "qyyi7FayR6nO"
      },
      "source": [
        "## Hypertuning the model"
      ]
    },
    {
      "cell_type": "code",
      "metadata": {
        "id": "Wn6pAoldSzGI"
      },
      "source": [
        "# grid for randomized search\n",
        "params_grid = {'n_estimators' : np.arange(10,100,10),\n",
        "        'max_depth' : [None, 3, 5, 10],\n",
        "        'criterion' : ['gini', 'entropy']}"
      ],
      "execution_count": 21,
      "outputs": []
    },
    {
      "cell_type": "code",
      "metadata": {
        "id": "3apG-I8CS1RV"
      },
      "source": [
        "# initiating new Random Forest Classifier instance\n",
        "clf = RandomForestClassifier(random_state=35, class_weight='balanced')\n",
        "\n",
        "# creating a hyper-tuned model\n",
        "ht_clf = RandomizedSearchCV(estimator = clf,\n",
        "                            param_distributions = params_grid,\n",
        "                            n_iter = 10,\n",
        "                            cv = 3,\n",
        "                            verbose = True)"
      ],
      "execution_count": 27,
      "outputs": []
    },
    {
      "cell_type": "code",
      "metadata": {
        "colab": {
          "base_uri": "https://localhost:8080/"
        },
        "id": "DeqcV_rsTngE",
        "outputId": "bfcc9765-fae0-4877-b155-a1305b039aca"
      },
      "source": [
        "ht_clf.fit(fasttext_train_vecs, train['ticket_type'])"
      ],
      "execution_count": 28,
      "outputs": [
        {
          "output_type": "stream",
          "text": [
            "Fitting 3 folds for each of 10 candidates, totalling 30 fits\n"
          ],
          "name": "stdout"
        },
        {
          "output_type": "stream",
          "text": [
            "[Parallel(n_jobs=1)]: Using backend SequentialBackend with 1 concurrent workers.\n",
            "[Parallel(n_jobs=1)]: Done  30 out of  30 | elapsed:  7.8min finished\n"
          ],
          "name": "stderr"
        },
        {
          "output_type": "execute_result",
          "data": {
            "text/plain": [
              "RandomizedSearchCV(cv=3, error_score=nan,\n",
              "                   estimator=RandomForestClassifier(bootstrap=True,\n",
              "                                                    ccp_alpha=0.0,\n",
              "                                                    class_weight='balanced',\n",
              "                                                    criterion='gini',\n",
              "                                                    max_depth=None,\n",
              "                                                    max_features='auto',\n",
              "                                                    max_leaf_nodes=None,\n",
              "                                                    max_samples=None,\n",
              "                                                    min_impurity_decrease=0.0,\n",
              "                                                    min_impurity_split=None,\n",
              "                                                    min_samples_leaf=1,\n",
              "                                                    min_samples_split=2,\n",
              "                                                    min_weight_fraction_leaf=0.0,\n",
              "                                                    n_estimators=100,\n",
              "                                                    n_jobs=None,\n",
              "                                                    oob_score=False,\n",
              "                                                    random_state=35, verbose=0,\n",
              "                                                    warm_start=False),\n",
              "                   iid='deprecated', n_iter=10, n_jobs=None,\n",
              "                   param_distributions={'criterion': ['gini', 'entropy'],\n",
              "                                        'max_depth': [None, 3, 5, 10],\n",
              "                                        'n_estimators': array([10, 20, 30, 40, 50, 60, 70, 80, 90])},\n",
              "                   pre_dispatch='2*n_jobs', random_state=None, refit=True,\n",
              "                   return_train_score=False, scoring=None, verbose=True)"
            ]
          },
          "metadata": {},
          "execution_count": 28
        }
      ]
    },
    {
      "cell_type": "code",
      "metadata": {
        "colab": {
          "base_uri": "https://localhost:8080/"
        },
        "id": "lBT-IEk5VeSG",
        "outputId": "213a0370-3609-4550-9b3c-0303bc444cf7"
      },
      "source": [
        "# best parameters\n",
        "ht_clf.best_params_"
      ],
      "execution_count": 29,
      "outputs": [
        {
          "output_type": "execute_result",
          "data": {
            "text/plain": [
              "{'criterion': 'entropy', 'max_depth': None, 'n_estimators': 50}"
            ]
          },
          "metadata": {},
          "execution_count": 29
        }
      ]
    },
    {
      "cell_type": "code",
      "metadata": {
        "colab": {
          "base_uri": "https://localhost:8080/"
        },
        "id": "uUyMXu06bjhx",
        "outputId": "cd48a1e1-c4e4-4dd8-9336-d2ff7c0c5fb7"
      },
      "source": [
        "# maximum score achieved on training dataset\n",
        "ht_clf.best_score_"
      ],
      "execution_count": 36,
      "outputs": [
        {
          "output_type": "execute_result",
          "data": {
            "text/plain": [
              "0.9318210425942288"
            ]
          },
          "metadata": {},
          "execution_count": 36
        }
      ]
    },
    {
      "cell_type": "markdown",
      "metadata": {
        "id": "iATHWuLgVrTX"
      },
      "source": [
        "## Initialising Final HyperTuned Model"
      ]
    },
    {
      "cell_type": "code",
      "metadata": {
        "id": "mJEvCzNgaLZl"
      },
      "source": [
        "# creating final model\n",
        "final_model = RandomForestClassifier(random_state = 35,\n",
        "                                     class_weight = 'balanced',\n",
        "                                     criterion = 'entropy',\n",
        "                                     max_depth = None,\n",
        "                                     n_estimators = 50)"
      ],
      "execution_count": 30,
      "outputs": []
    },
    {
      "cell_type": "code",
      "metadata": {
        "colab": {
          "base_uri": "https://localhost:8080/"
        },
        "id": "WBoMzJq8ajI6",
        "outputId": "c4b47aef-a4bb-4d74-96c7-fa6c7669bf8d"
      },
      "source": [
        "# fitting final model\n",
        "final_model.fit(fasttext_train_vecs, train['ticket_type'])"
      ],
      "execution_count": 31,
      "outputs": [
        {
          "output_type": "execute_result",
          "data": {
            "text/plain": [
              "RandomForestClassifier(bootstrap=True, ccp_alpha=0.0, class_weight='balanced',\n",
              "                       criterion='entropy', max_depth=None, max_features='auto',\n",
              "                       max_leaf_nodes=None, max_samples=None,\n",
              "                       min_impurity_decrease=0.0, min_impurity_split=None,\n",
              "                       min_samples_leaf=1, min_samples_split=2,\n",
              "                       min_weight_fraction_leaf=0.0, n_estimators=50,\n",
              "                       n_jobs=None, oob_score=False, random_state=35, verbose=0,\n",
              "                       warm_start=False)"
            ]
          },
          "metadata": {},
          "execution_count": 31
        }
      ]
    },
    {
      "cell_type": "code",
      "metadata": {
        "id": "Ew8v3BHoVq9q"
      },
      "source": [
        "# importing testing dataset\n",
        "test = pd.read_csv('/content/ticket_test.csv')"
      ],
      "execution_count": 22,
      "outputs": []
    },
    {
      "cell_type": "code",
      "metadata": {
        "id": "Ili9UG4lWIl7"
      },
      "source": [
        "# encoding testing dataset\n",
        "fasttext_test_vecs = fasttext_en.encode(texts = list(test['info'].values), pooling='reduce_mean')"
      ],
      "execution_count": 23,
      "outputs": []
    },
    {
      "cell_type": "code",
      "metadata": {
        "id": "eE3Tu7V5a7J6"
      },
      "source": [
        "# predicting validating dataset ticket-type using validation fasttext encoded vector\n",
        "y_test_preds = final_model.predict(fasttext_test_vecs)"
      ],
      "execution_count": 32,
      "outputs": []
    },
    {
      "cell_type": "markdown",
      "metadata": {
        "id": "v5T5s2ttawFD"
      },
      "source": [
        "### Final Model Evaluation"
      ]
    },
    {
      "cell_type": "code",
      "metadata": {
        "colab": {
          "base_uri": "https://localhost:8080/",
          "height": 279
        },
        "id": "RYeAJpPhavUg",
        "outputId": "2509144a-e34f-4c63-f74f-c3d0d2d67c32"
      },
      "source": [
        "con_mat = confusion_matrix(test['ticket_type'], y_test_preds)\n",
        "sns.heatmap(con_mat, annot=True, fmt='.0f', square=True)\n",
        "plt.xlabel('Prediction')\n",
        "plt.ylabel('Acutal')\n",
        "plt.show()"
      ],
      "execution_count": 33,
      "outputs": [
        {
          "output_type": "display_data",
          "data": {
            "image/png": "[encoded data removed]",
            "text/plain": [
              "<Figure size 432x288 with 2 Axes>"
            ]
          },
          "metadata": {
            "needs_background": "light"
          }
        }
      ]
    },
    {
      "cell_type": "code",
      "metadata": {
        "colab": {
          "base_uri": "https://localhost:8080/"
        },
        "id": "Bb2n1FOnbP0a",
        "outputId": "9d6545e0-1e75-4726-ec0c-670a8da8c160"
      },
      "source": [
        "acc = accuracy_score(test['ticket_type'], y_test_preds)\n",
        "print(f'Model accuracy score = {acc*100:0.2f}%.')"
      ],
      "execution_count": 34,
      "outputs": [
        {
          "output_type": "stream",
          "text": [
            "Model accuracy score = 93.92%.\n"
          ],
          "name": "stdout"
        }
      ]
    },
    {
      "cell_type": "code",
      "metadata": {
        "colab": {
          "base_uri": "https://localhost:8080/"
        },
        "id": "79BEzRxLbQeF",
        "outputId": "4bdcdea6-2590-4efb-ee47-6f118d7428a0"
      },
      "source": [
        "print(classification_report(test['ticket_type'], y_test_preds))"
      ],
      "execution_count": 35,
      "outputs": [
        {
          "output_type": "stream",
          "text": [
            "              precision    recall  f1-score   support\n",
            "\n",
            "           0       0.95      0.83      0.89      1393\n",
            "           1       0.93      0.98      0.96      3462\n",
            "\n",
            "    accuracy                           0.94      4855\n",
            "   macro avg       0.94      0.91      0.92      4855\n",
            "weighted avg       0.94      0.94      0.94      4855\n",
            "\n"
          ],
          "name": "stdout"
        }
      ]
    }
  ]
}