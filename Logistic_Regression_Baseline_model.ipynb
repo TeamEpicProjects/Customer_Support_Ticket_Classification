{
 "cells": [
  {
   "cell_type": "code",
   "execution_count": 1,
   "id": "ed654f50",
   "metadata": {},
   "outputs": [],
   "source": [
    "import pandas as pd\n",
    "# plotting libraries\n",
    "import matplotlib.pyplot as plt\n",
    "import seaborn as sns\n",
    "\n",
    "%matplotlib inline\n",
    "\n",
    "# to vectorize text data\n",
    "from sklearn.feature_extraction.text import TfidfVectorizer\n",
    "\n",
    "# scikit model used\n",
    "from sklearn import linear_model\n",
    "\n",
    "# metrics for model evaluation\n",
    "from sklearn.metrics import classification_report, confusion_matrix, accuracy_score"
   ]
  },
  {
   "cell_type": "code",
   "execution_count": 2,
   "id": "29cac01b",
   "metadata": {},
   "outputs": [],
   "source": [
    "# importing training dataset\n",
    "train = pd.read_csv('ticket_train.csv')\n",
    "\n",
    "# importing validating dataset\n",
    "valid = pd.read_csv('ticket_valid.csv')"
   ]
  },
  {
   "cell_type": "code",
   "execution_count": 3,
   "id": "256b98d6",
   "metadata": {},
   "outputs": [
    {
     "data": {
      "text/html": [
       "<div>\n",
       "<style scoped>\n",
       "    .dataframe tbody tr th:only-of-type {\n",
       "        vertical-align: middle;\n",
       "    }\n",
       "\n",
       "    .dataframe tbody tr th {\n",
       "        vertical-align: top;\n",
       "    }\n",
       "\n",
       "    .dataframe thead th {\n",
       "        text-align: right;\n",
       "    }\n",
       "</style>\n",
       "<table border=\"1\" class=\"dataframe\">\n",
       "  <thead>\n",
       "    <tr style=\"text-align: right;\">\n",
       "      <th></th>\n",
       "      <th>ticket_type</th>\n",
       "      <th>category</th>\n",
       "      <th>sub_category1</th>\n",
       "      <th>sub_category2</th>\n",
       "      <th>business_service</th>\n",
       "      <th>urgency</th>\n",
       "      <th>impact</th>\n",
       "      <th>info</th>\n",
       "    </tr>\n",
       "  </thead>\n",
       "  <tbody>\n",
       "    <tr>\n",
       "      <th>0</th>\n",
       "      <td>1</td>\n",
       "      <td>5</td>\n",
       "      <td>13</td>\n",
       "      <td>105</td>\n",
       "      <td>32</td>\n",
       "      <td>3</td>\n",
       "      <td>4</td>\n",
       "      <td>search for old outlook thursday octob old hi f...</td>\n",
       "    </tr>\n",
       "  </tbody>\n",
       "</table>\n",
       "</div>"
      ],
      "text/plain": [
       "   ticket_type  category  sub_category1  sub_category2  business_service  \\\n",
       "0            1         5             13            105                32   \n",
       "\n",
       "   urgency  impact                                               info  \n",
       "0        3       4  search for old outlook thursday octob old hi f...  "
      ]
     },
     "execution_count": 3,
     "metadata": {},
     "output_type": "execute_result"
    }
   ],
   "source": [
    "# top 1 record\n",
    "train.head(1)"
   ]
  },
  {
   "cell_type": "code",
   "execution_count": 4,
   "id": "84158716",
   "metadata": {},
   "outputs": [
    {
     "data": {
      "text/html": [
       "<div>\n",
       "<style scoped>\n",
       "    .dataframe tbody tr th:only-of-type {\n",
       "        vertical-align: middle;\n",
       "    }\n",
       "\n",
       "    .dataframe tbody tr th {\n",
       "        vertical-align: top;\n",
       "    }\n",
       "\n",
       "    .dataframe thead th {\n",
       "        text-align: right;\n",
       "    }\n",
       "</style>\n",
       "<table border=\"1\" class=\"dataframe\">\n",
       "  <thead>\n",
       "    <tr style=\"text-align: right;\">\n",
       "      <th></th>\n",
       "      <th>ticket_type</th>\n",
       "      <th>category</th>\n",
       "      <th>sub_category1</th>\n",
       "      <th>sub_category2</th>\n",
       "      <th>business_service</th>\n",
       "      <th>urgency</th>\n",
       "      <th>impact</th>\n",
       "      <th>info</th>\n",
       "    </tr>\n",
       "  </thead>\n",
       "  <tbody>\n",
       "    <tr>\n",
       "      <th>0</th>\n",
       "      <td>1</td>\n",
       "      <td>4</td>\n",
       "      <td>1</td>\n",
       "      <td>21</td>\n",
       "      <td>35</td>\n",
       "      <td>3</td>\n",
       "      <td>4</td>\n",
       "      <td>pend expen claim juli pm re pend expen claim h...</td>\n",
       "    </tr>\n",
       "  </tbody>\n",
       "</table>\n",
       "</div>"
      ],
      "text/plain": [
       "   ticket_type  category  sub_category1  sub_category2  business_service  \\\n",
       "0            1         4              1             21                35   \n",
       "\n",
       "   urgency  impact                                               info  \n",
       "0        3       4  pend expen claim juli pm re pend expen claim h...  "
      ]
     },
     "execution_count": 4,
     "metadata": {},
     "output_type": "execute_result"
    }
   ],
   "source": [
    "# top 1 record\n",
    "valid.head(1)"
   ]
  },
  {
   "cell_type": "code",
   "execution_count": 5,
   "id": "5eafbeb8",
   "metadata": {},
   "outputs": [],
   "source": [
    "# vectorizer instance\n",
    "tfidf = TfidfVectorizer()"
   ]
  },
  {
   "cell_type": "code",
   "execution_count": 13,
   "id": "bb623f6d",
   "metadata": {},
   "outputs": [],
   "source": [
    "tfidf_train_df =tfidf.fit_transform(train['info'])\n",
    "tfidf_valid_df =tfidf.transform(valid['info'])"
   ]
  },
  {
   "cell_type": "code",
   "execution_count": 14,
   "id": "86ac3136",
   "metadata": {},
   "outputs": [
    {
     "data": {
      "text/plain": [
       "((38839, 6673), (4855, 6673))"
      ]
     },
     "execution_count": 14,
     "metadata": {},
     "output_type": "execute_result"
    }
   ],
   "source": [
    "tfidf_train_df.shape,tfidf_valid_df.shape\n"
   ]
  },
  {
   "cell_type": "code",
   "execution_count": 15,
   "id": "fe6ca43c",
   "metadata": {},
   "outputs": [],
   "source": [
    "# features and target of training dataset\n",
    "X_train = tfidf_train_df\n",
    "y_train=train['ticket_type']\n",
    "# features and target of validating dataset\n",
    "X_valid = tfidf_valid_df\n",
    "y_valid = valid['ticket_type']"
   ]
  },
  {
   "cell_type": "code",
   "execution_count": 16,
   "id": "a3152299",
   "metadata": {},
   "outputs": [],
   "source": [
    "LRG = linear_model.LogisticRegression(random_state = 35,solver = 'liblinear',multi_class = 'auto').fit(X_train, y_train)"
   ]
  },
  {
   "cell_type": "code",
   "execution_count": 17,
   "id": "fb037981",
   "metadata": {},
   "outputs": [
    {
     "data": {
      "text/plain": [
       "0.9903190092432864"
      ]
     },
     "execution_count": 17,
     "metadata": {},
     "output_type": "execute_result"
    }
   ],
   "source": [
    "LRG.score(X_train, y_train)"
   ]
  },
  {
   "cell_type": "code",
   "execution_count": 18,
   "id": "28a57880",
   "metadata": {},
   "outputs": [],
   "source": [
    "y_valid_preds = LRG.predict(X_valid)"
   ]
  },
  {
   "cell_type": "code",
   "execution_count": 19,
   "id": "5e6d981f",
   "metadata": {},
   "outputs": [
    {
     "data": {
      "image/png": "[encoded data removed]",
      "text/plain": [
       "<Figure size 432x288 with 2 Axes>"
      ]
     },
     "metadata": {
      "needs_background": "light"
     },
     "output_type": "display_data"
    }
   ],
   "source": [
    "con_mat = confusion_matrix(y_valid,y_valid_preds )\n",
    "sns.heatmap(con_mat, annot=True, cmap= 'coolwarm',linewidth=2, linecolor='w', fmt='.0f', square=True)\n",
    "plt.xlabel('Prediction')\n",
    "plt.ylabel('Acutal')\n",
    "plt.show()"
   ]
  },
  {
   "cell_type": "code",
   "execution_count": 20,
   "id": "48bf7e86",
   "metadata": {},
   "outputs": [
    {
     "name": "stdout",
     "output_type": "stream",
     "text": [
      "Model accuracy score = 98.85%.\n"
     ]
    }
   ],
   "source": [
    "acc = accuracy_score(y_valid, y_valid_preds)\n",
    "print(f'Model accuracy score = {acc*100:0.2f}%.')"
   ]
  },
  {
   "cell_type": "code",
   "execution_count": 21,
   "id": "ccb74668",
   "metadata": {},
   "outputs": [
    {
     "name": "stdout",
     "output_type": "stream",
     "text": [
      "              precision    recall  f1-score   support\n",
      "\n",
      "           0       0.99      0.97      0.98      1393\n",
      "           1       0.99      1.00      0.99      3462\n",
      "\n",
      "    accuracy                           0.99      4855\n",
      "   macro avg       0.99      0.98      0.99      4855\n",
      "weighted avg       0.99      0.99      0.99      4855\n",
      "\n"
     ]
    }
   ],
   "source": [
    "print(classification_report(y_valid, y_valid_preds))"
   ]
  },
  {
   "cell_type": "code",
   "execution_count": 22,
   "id": "4c1e51df",
   "metadata": {},
   "outputs": [
    {
     "data": {
      "text/plain": [
       "array([[-0.55057534, -0.04718453,  0.00339174, ...,  0.8546853 ,\n",
       "         0.07732472,  0.01206912]])"
      ]
     },
     "execution_count": 22,
     "metadata": {},
     "output_type": "execute_result"
    }
   ],
   "source": [
    "LRG.coef_"
   ]
  }
 ],
 "metadata": {
  "kernelspec": {
   "display_name": "Python 3 (ipykernel)",
   "language": "python",
   "name": "python3"
  },
  "language_info": {
   "codemirror_mode": {
    "name": "ipython",
    "version": 3
   },
   "file_extension": ".py",
   "mimetype": "text/x-python",
   "name": "python",
   "nbconvert_exporter": "python",
   "pygments_lexer": "ipython3",
   "version": "3.9.6"
  }
 },
 "nbformat": 4,
 "nbformat_minor": 5
}
