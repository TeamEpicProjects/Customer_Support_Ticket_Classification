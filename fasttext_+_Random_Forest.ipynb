{
  "nbformat": 4,
  "nbformat_minor": 0,
  "metadata": {
    "colab": {
      "name": "fasttext + Random_Forest",
      "provenance": [],
      "collapsed_sections": []
    },
    "kernelspec": {
      "name": "python3",
      "display_name": "Python 3"
    },
    "language_info": {
      "name": "python"
    },
    "accelerator": "GPU"
  },
  "cells": [
    {
      "cell_type": "markdown",
      "metadata": {
        "id": "08gBfWs2j_Bw"
      },
      "source": [
        "# Fasttext Encoding + Random Forest Classifier"
      ]
    },
    {
      "cell_type": "code",
      "metadata": {
        "id": "MetXd0s2Bdu1"
      },
      "source": [
        "#importing libraries\n",
        "\n",
        "# data manipulation\n",
        "import pandas as pd\n",
        "\n",
        "# plotting libraries\n",
        "import seaborn as sns\n",
        "import matplotlib.pyplot as plt\n",
        "%matplotlib inline\n",
        "\n",
        "# encoding text information usinf fasttext encoder\n",
        "from embedding_as_service.text.encode import Encoder\n",
        "\n",
        "# scikit model used\n",
        "from sklearn.ensemble import RandomForestClassifier\n",
        "\n",
        "# metrics for model evaluation\n",
        "from sklearn.metrics import classification_report, confusion_matrix, accuracy_score\n",
        "\n",
        "#removing warnings\n",
        "import warnings\n",
        "warnings.filterwarnings('ignore')"
      ],
      "execution_count": 1,
      "outputs": []
    },
    {
      "cell_type": "code",
      "metadata": {
        "id": "eNRDN9cUCLbf"
      },
      "source": [
        "train = pd.read_csv('/content/ticket_train.csv')\n",
        "valid = pd.read_csv('/content/ticket_valid.csv')"
      ],
      "execution_count": 2,
      "outputs": []
    },
    {
      "cell_type": "markdown",
      "metadata": {
        "id": "2C5IopTGp-uf"
      },
      "source": [
        "## Fasttext Encoding"
      ]
    },
    {
      "cell_type": "code",
      "metadata": {
        "id": "ksnmNeSmoew2",
        "colab": {
          "base_uri": "https://localhost:8080/"
        },
        "outputId": "48c8addb-ea48-4d56-83ec-2247f49f6b15"
      },
      "source": [
        "# initialising encoder\n",
        "fasttext_en = Encoder(embedding='fasttext', model='common_crawl_300')"
      ],
      "execution_count": 3,
      "outputs": [
        {
          "output_type": "stream",
          "text": [
            "Model does not exists, Downloading model: common_crawl_300\n",
            "[||||||||||||||||||||||||||||||||||||||||||||||||||] 100 % [1488071/1488071 kb]\n"
          ],
          "name": "stdout"
        },
        {
          "output_type": "stream",
          "text": [
            "900it [00:00, 8988.22it/s]"
          ],
          "name": "stderr"
        },
        {
          "output_type": "stream",
          "text": [
            "Model downloaded successfully!\n",
            "Loading Model (this might take few minutes).....\n"
          ],
          "name": "stdout"
        },
        {
          "output_type": "stream",
          "text": [
            "1999995it [03:58, 8371.33it/s]"
          ],
          "name": "stderr"
        },
        {
          "output_type": "stream",
          "text": [
            "Model loaded Successfully !\n"
          ],
          "name": "stdout"
        },
        {
          "output_type": "stream",
          "text": [
            "\n"
          ],
          "name": "stderr"
        }
      ]
    },
    {
      "cell_type": "markdown",
      "metadata": {
        "id": "rkMyqTFH0g6t"
      },
      "source": [
        "### Encoding training datasets"
      ]
    },
    {
      "cell_type": "code",
      "metadata": {
        "id": "4xYGMl6movI6"
      },
      "source": [
        "# encoding training dataset\n",
        "fasttext_train_vecs = fasttext_en.encode(texts = list(train['info'].values), pooling='reduce_mean')"
      ],
      "execution_count": 4,
      "outputs": []
    },
    {
      "cell_type": "code",
      "metadata": {
        "colab": {
          "base_uri": "https://localhost:8080/"
        },
        "id": "tdDfsSRaovCs",
        "outputId": "a4cb2a20-afd9-4a5d-cd89-32d996031c4e"
      },
      "source": [
        "fasttext_train_vecs.shape"
      ],
      "execution_count": 5,
      "outputs": [
        {
          "output_type": "execute_result",
          "data": {
            "text/plain": [
              "(38839, 300)"
            ]
          },
          "metadata": {},
          "execution_count": 5
        }
      ]
    },
    {
      "cell_type": "code",
      "metadata": {
        "colab": {
          "base_uri": "https://localhost:8080/"
        },
        "id": "XSpXYnatpy16",
        "outputId": "0646be6a-e7e1-4d71-b0a7-f7a7412243dc"
      },
      "source": [
        "fasttext_train_vecs"
      ],
      "execution_count": 6,
      "outputs": [
        {
          "output_type": "execute_result",
          "data": {
            "text/plain": [
              "array([[ 0.00728672, -0.00506562, -0.00520078, ...,  0.01057891,\n",
              "        -0.00600937, -0.00492188],\n",
              "       [ 0.00256172,  0.00128047, -0.00835781, ..., -0.01101406,\n",
              "         0.00139844,  0.01202734],\n",
              "       [-0.00926875,  0.02020156, -0.00615312, ..., -0.01895   ,\n",
              "        -0.00510313, -0.00916797],\n",
              "       ...,\n",
              "       [ 0.00094297, -0.00193359, -0.01193906, ..., -0.00394609,\n",
              "         0.00141016, -0.00152422],\n",
              "       [-0.00793906,  0.02531172, -0.01642422, ..., -0.00886953,\n",
              "         0.00726953, -0.000475  ],\n",
              "       [ 0.00910469,  0.04631719, -0.04369141, ...,  0.00188672,\n",
              "        -0.10274141, -0.05983047]])"
            ]
          },
          "metadata": {},
          "execution_count": 6
        }
      ]
    },
    {
      "cell_type": "markdown",
      "metadata": {
        "id": "iYTdforQypkz"
      },
      "source": [
        "### Encoding validating datasets"
      ]
    },
    {
      "cell_type": "code",
      "metadata": {
        "id": "GFUmc1PRypDY"
      },
      "source": [
        "# encoding validation dataset\n",
        "fasttext_valid_vecs = fasttext_en.encode(texts = list(valid['info'].values), pooling='reduce_mean')"
      ],
      "execution_count": 7,
      "outputs": []
    },
    {
      "cell_type": "code",
      "metadata": {
        "colab": {
          "base_uri": "https://localhost:8080/"
        },
        "id": "fBro5_Pvy3Wz",
        "outputId": "176862e6-46a6-4508-86cc-0018728ef229"
      },
      "source": [
        "fasttext_valid_vecs.shape"
      ],
      "execution_count": 8,
      "outputs": [
        {
          "output_type": "execute_result",
          "data": {
            "text/plain": [
              "(4855, 300)"
            ]
          },
          "metadata": {},
          "execution_count": 8
        }
      ]
    },
    {
      "cell_type": "markdown",
      "metadata": {
        "id": "hYF_TNTHotGs"
      },
      "source": [
        "## Modelling"
      ]
    },
    {
      "cell_type": "code",
      "metadata": {
        "id": "u28s2rNBzIfB"
      },
      "source": [
        "# creating Random Forest Classifier instance\n",
        "RFClf = RandomForestClassifier(random_state=35)"
      ],
      "execution_count": 9,
      "outputs": []
    },
    {
      "cell_type": "code",
      "metadata": {
        "colab": {
          "base_uri": "https://localhost:8080/"
        },
        "id": "OZEY_PLPzJpQ",
        "outputId": "4362580a-ac1c-46dd-d80c-89b32171e2f4"
      },
      "source": [
        "# fitting the model with training fasttext encoded vector and target ticket_type column\n",
        "RFClf.fit(fasttext_train_vecs, train['ticket_type'])"
      ],
      "execution_count": 10,
      "outputs": [
        {
          "output_type": "execute_result",
          "data": {
            "text/plain": [
              "RandomForestClassifier(bootstrap=True, ccp_alpha=0.0, class_weight=None,\n",
              "                       criterion='gini', max_depth=None, max_features='auto',\n",
              "                       max_leaf_nodes=None, max_samples=None,\n",
              "                       min_impurity_decrease=0.0, min_impurity_split=None,\n",
              "                       min_samples_leaf=1, min_samples_split=2,\n",
              "                       min_weight_fraction_leaf=0.0, n_estimators=100,\n",
              "                       n_jobs=None, oob_score=False, random_state=35, verbose=0,\n",
              "                       warm_start=False)"
            ]
          },
          "metadata": {},
          "execution_count": 10
        }
      ]
    },
    {
      "cell_type": "code",
      "metadata": {
        "id": "9tmKIzbhzRfu"
      },
      "source": [
        "# predicting validating dataset ticket-type using validation fasttext encoded vector\n",
        "y_valid_preds = RFClf.predict(fasttext_valid_vecs)"
      ],
      "execution_count": 11,
      "outputs": []
    },
    {
      "cell_type": "markdown",
      "metadata": {
        "id": "L78w8vjszYG_"
      },
      "source": [
        "## Model Evaluation"
      ]
    },
    {
      "cell_type": "code",
      "metadata": {
        "colab": {
          "base_uri": "https://localhost:8080/",
          "height": 279
        },
        "id": "TaAjbsTRzawL",
        "outputId": "141bec86-fd07-41f5-cf14-42a9801ce7e5"
      },
      "source": [
        "con_mat = confusion_matrix(valid['ticket_type'], y_valid_preds)\n",
        "sns.heatmap(con_mat, annot=True, fmt='.0f', square=True)\n",
        "plt.xlabel('Prediction')\n",
        "plt.ylabel('Acutal')\n",
        "plt.show()"
      ],
      "execution_count": 12,
      "outputs": [
        {
          "output_type": "display_data",
          "data": {
            "image/png": "[encoded data removed]",
            "text/plain": [
              "<Figure size 432x288 with 2 Axes>"
            ]
          },
          "metadata": {
            "needs_background": "light"
          }
        }
      ]
    },
    {
      "cell_type": "code",
      "metadata": {
        "colab": {
          "base_uri": "https://localhost:8080/"
        },
        "id": "zyzdnZ-DziAH",
        "outputId": "8c628c6d-dc5d-4a2d-f03b-3f63926553b0"
      },
      "source": [
        "acc = accuracy_score(valid['ticket_type'], y_valid_preds)\n",
        "print(f'Model accuracy score = {acc*100:0.2f}%.')"
      ],
      "execution_count": 13,
      "outputs": [
        {
          "output_type": "stream",
          "text": [
            "Model accuracy score = 93.55%.\n"
          ],
          "name": "stdout"
        }
      ]
    },
    {
      "cell_type": "code",
      "metadata": {
        "colab": {
          "base_uri": "https://localhost:8080/"
        },
        "id": "Y8D21PNW0CaM",
        "outputId": "a7b4a293-277a-4760-e7cb-b700be404758"
      },
      "source": [
        "print(classification_report(valid['ticket_type'], y_valid_preds))"
      ],
      "execution_count": 14,
      "outputs": [
        {
          "output_type": "stream",
          "text": [
            "              precision    recall  f1-score   support\n",
            "\n",
            "           0       0.95      0.82      0.88      1393\n",
            "           1       0.93      0.98      0.96      3462\n",
            "\n",
            "    accuracy                           0.94      4855\n",
            "   macro avg       0.94      0.90      0.92      4855\n",
            "weighted avg       0.94      0.94      0.93      4855\n",
            "\n"
          ],
          "name": "stdout"
        }
      ]
    },
    {
      "cell_type": "markdown",
      "metadata": {
        "id": "_2LQy3bfOIa3"
      },
      "source": [
        "### With class-weight='balanced'"
      ]
    },
    {
      "cell_type": "code",
      "metadata": {
        "id": "dU98nT3eN6Y7"
      },
      "source": [
        "# creating Random Forest Classifier instance\n",
        "RFClf_bal = RandomForestClassifier(random_state=35, class_weight='balanced')\n",
        "\n",
        "# fitting the model with training fasttext encoded vector and target ticket_type column\n",
        "RFClf_bal.fit(fasttext_train_vecs, train['ticket_type'])\n",
        "\n",
        "# predicting validating dataset ticket-type using validation fasttext encoded vector\n",
        "y_valid_preds_bal = RFClf_bal.predict(fasttext_valid_vecs)"
      ],
      "execution_count": 15,
      "outputs": []
    },
    {
      "cell_type": "code",
      "metadata": {
        "colab": {
          "base_uri": "https://localhost:8080/",
          "height": 279
        },
        "id": "k3X3EXWXOQB8",
        "outputId": "64facf69-8da6-4fda-d5ce-4612835dec68"
      },
      "source": [
        "con_mat = confusion_matrix(valid['ticket_type'], y_valid_preds_bal)\n",
        "sns.heatmap(con_mat, annot=True, fmt='.0f', square=True)\n",
        "plt.xlabel('Prediction')\n",
        "plt.ylabel('Acutal')\n",
        "plt.show()"
      ],
      "execution_count": 16,
      "outputs": [
        {
          "output_type": "display_data",
          "data": {
            "image/png": "[encoded data removed]",
            "text/plain": [
              "<Figure size 432x288 with 2 Axes>"
            ]
          },
          "metadata": {
            "needs_background": "light"
          }
        }
      ]
    },
    {
      "cell_type": "code",
      "metadata": {
        "colab": {
          "base_uri": "https://localhost:8080/"
        },
        "id": "CJlaCc9AOUJC",
        "outputId": "365c795e-eee5-4d1a-9226-114162ef645c"
      },
      "source": [
        "acc = accuracy_score(valid['ticket_type'], y_valid_preds_bal)\n",
        "print(f'Model accuracy score = {acc*100:0.2f}%.')"
      ],
      "execution_count": 17,
      "outputs": [
        {
          "output_type": "stream",
          "text": [
            "Model accuracy score = 93.39%.\n"
          ],
          "name": "stdout"
        }
      ]
    },
    {
      "cell_type": "code",
      "metadata": {
        "colab": {
          "base_uri": "https://localhost:8080/"
        },
        "id": "4Ih_wwrbOW4B",
        "outputId": "800df607-1c78-4879-c6b8-f0d8e63afe82"
      },
      "source": [
        "print(classification_report(valid['ticket_type'], y_valid_preds_bal))"
      ],
      "execution_count": 18,
      "outputs": [
        {
          "output_type": "stream",
          "text": [
            "              precision    recall  f1-score   support\n",
            "\n",
            "           0       0.96      0.80      0.87      1393\n",
            "           1       0.93      0.99      0.96      3462\n",
            "\n",
            "    accuracy                           0.93      4855\n",
            "   macro avg       0.94      0.89      0.91      4855\n",
            "weighted avg       0.94      0.93      0.93      4855\n",
            "\n"
          ],
          "name": "stdout"
        }
      ]
    }
  ]
}