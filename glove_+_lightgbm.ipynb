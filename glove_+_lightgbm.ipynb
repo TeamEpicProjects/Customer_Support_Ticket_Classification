{
 "cells": [
  {
   "cell_type": "code",
   "execution_count": 1,
   "metadata": {
    "colab": {
     "base_uri": "https://localhost:8080/"
    },
    "id": "BiMRO01znsLF",
    "outputId": "a1e7e354-57a0-48ef-fc31-d3796874640b"
   },
   "outputs": [
    {
     "name": "stdout",
     "output_type": "stream",
     "text": [
      "Requirement already satisfied: embedding-as-service in /usr/local/lib/python3.7/dist-packages (2.0.1)\n",
      "Requirement already satisfied: zmq==0.0.0 in /usr/local/lib/python3.7/dist-packages (from embedding-as-service) (0.0.0)\n",
      "Requirement already satisfied: sentencepiece==0.1.85 in /usr/local/lib/python3.7/dist-packages (from embedding-as-service) (0.1.85)\n",
      "Requirement already satisfied: smart-open==1.8.4 in /usr/local/lib/python3.7/dist-packages (from embedding-as-service) (1.8.4)\n",
      "Requirement already satisfied: tensorflow==1.15.2 in /usr/local/lib/python3.7/dist-packages (from embedding-as-service) (1.15.2)\n",
      "Requirement already satisfied: bert-tensorflow==1.0.1 in /usr/local/lib/python3.7/dist-packages (from embedding-as-service) (1.0.1)\n",
      "Requirement already satisfied: setuptools>=41.0.0 in /usr/local/lib/python3.7/dist-packages (from embedding-as-service) (57.4.0)\n",
      "Requirement already satisfied: keras==2.2.4 in /usr/local/lib/python3.7/dist-packages (from embedding-as-service) (2.2.4)\n",
      "Requirement already satisfied: numpy==1.16.4 in /usr/local/lib/python3.7/dist-packages (from embedding-as-service) (1.16.4)\n",
      "Requirement already satisfied: requests==2.21.0 in /usr/local/lib/python3.7/dist-packages (from embedding-as-service) (2.21.0)\n",
      "Requirement already satisfied: tqdm==4.32.2 in /usr/local/lib/python3.7/dist-packages (from embedding-as-service) (4.32.2)\n",
      "Requirement already satisfied: tensorflow-hub==0.4.0 in /usr/local/lib/python3.7/dist-packages (from embedding-as-service) (0.4.0)\n",
      "Requirement already satisfied: six in /usr/local/lib/python3.7/dist-packages (from bert-tensorflow==1.0.1->embedding-as-service) (1.15.0)\n",
      "Requirement already satisfied: keras-preprocessing>=1.0.5 in /usr/local/lib/python3.7/dist-packages (from keras==2.2.4->embedding-as-service) (1.1.2)\n",
      "Requirement already satisfied: keras-applications>=1.0.6 in /usr/local/lib/python3.7/dist-packages (from keras==2.2.4->embedding-as-service) (1.0.8)\n",
      "Requirement already satisfied: scipy>=0.14 in /usr/local/lib/python3.7/dist-packages (from keras==2.2.4->embedding-as-service) (1.4.1)\n",
      "Requirement already satisfied: pyyaml in /usr/local/lib/python3.7/dist-packages (from keras==2.2.4->embedding-as-service) (3.13)\n",
      "Requirement already satisfied: h5py in /usr/local/lib/python3.7/dist-packages (from keras==2.2.4->embedding-as-service) (3.1.0)\n",
      "Requirement already satisfied: certifi>=2017.4.17 in /usr/local/lib/python3.7/dist-packages (from requests==2.21.0->embedding-as-service) (2021.5.30)\n",
      "Requirement already satisfied: idna<2.9,>=2.5 in /usr/local/lib/python3.7/dist-packages (from requests==2.21.0->embedding-as-service) (2.8)\n",
      "Requirement already satisfied: chardet<3.1.0,>=3.0.2 in /usr/local/lib/python3.7/dist-packages (from requests==2.21.0->embedding-as-service) (3.0.4)\n",
      "Requirement already satisfied: urllib3<1.25,>=1.21.1 in /usr/local/lib/python3.7/dist-packages (from requests==2.21.0->embedding-as-service) (1.24.3)\n",
      "Requirement already satisfied: boto3 in /usr/local/lib/python3.7/dist-packages (from smart-open==1.8.4->embedding-as-service) (1.15.18)\n",
      "Requirement already satisfied: boto>=2.32 in /usr/local/lib/python3.7/dist-packages (from smart-open==1.8.4->embedding-as-service) (2.49.0)\n",
      "Requirement already satisfied: termcolor>=1.1.0 in /usr/local/lib/python3.7/dist-packages (from tensorflow==1.15.2->embedding-as-service) (1.1.0)\n",
      "Requirement already satisfied: astor>=0.6.0 in /usr/local/lib/python3.7/dist-packages (from tensorflow==1.15.2->embedding-as-service) (0.8.1)\n",
      "Requirement already satisfied: tensorboard<1.16.0,>=1.15.0 in /usr/local/lib/python3.7/dist-packages (from tensorflow==1.15.2->embedding-as-service) (1.15.0)\n",
      "Requirement already satisfied: google-pasta>=0.1.6 in /usr/local/lib/python3.7/dist-packages (from tensorflow==1.15.2->embedding-as-service) (0.2.0)\n",
      "Requirement already satisfied: absl-py>=0.7.0 in /usr/local/lib/python3.7/dist-packages (from tensorflow==1.15.2->embedding-as-service) (0.12.0)\n",
      "Requirement already satisfied: grpcio>=1.8.6 in /usr/local/lib/python3.7/dist-packages (from tensorflow==1.15.2->embedding-as-service) (1.39.0)\n",
      "Requirement already satisfied: gast==0.2.2 in /usr/local/lib/python3.7/dist-packages (from tensorflow==1.15.2->embedding-as-service) (0.2.2)\n",
      "Requirement already satisfied: tensorflow-estimator==1.15.1 in /usr/local/lib/python3.7/dist-packages (from tensorflow==1.15.2->embedding-as-service) (1.15.1)\n",
      "Requirement already satisfied: protobuf>=3.6.1 in /usr/local/lib/python3.7/dist-packages (from tensorflow==1.15.2->embedding-as-service) (3.17.3)\n",
      "Requirement already satisfied: opt-einsum>=2.3.2 in /usr/local/lib/python3.7/dist-packages (from tensorflow==1.15.2->embedding-as-service) (3.3.0)\n",
      "Requirement already satisfied: wrapt>=1.11.1 in /usr/local/lib/python3.7/dist-packages (from tensorflow==1.15.2->embedding-as-service) (1.12.1)\n",
      "Requirement already satisfied: wheel>=0.26 in /usr/local/lib/python3.7/dist-packages (from tensorflow==1.15.2->embedding-as-service) (0.37.0)\n",
      "Requirement already satisfied: pyzmq in /usr/local/lib/python3.7/dist-packages (from zmq==0.0.0->embedding-as-service) (22.2.1)\n",
      "Requirement already satisfied: werkzeug>=0.11.15 in /usr/local/lib/python3.7/dist-packages (from tensorboard<1.16.0,>=1.15.0->tensorflow==1.15.2->embedding-as-service) (1.0.1)\n",
      "Requirement already satisfied: markdown>=2.6.8 in /usr/local/lib/python3.7/dist-packages (from tensorboard<1.16.0,>=1.15.0->tensorflow==1.15.2->embedding-as-service) (3.3.4)\n",
      "Requirement already satisfied: importlib-metadata in /usr/local/lib/python3.7/dist-packages (from markdown>=2.6.8->tensorboard<1.16.0,>=1.15.0->tensorflow==1.15.2->embedding-as-service) (4.6.4)\n",
      "Requirement already satisfied: botocore<1.19.0,>=1.18.18 in /usr/local/lib/python3.7/dist-packages (from boto3->smart-open==1.8.4->embedding-as-service) (1.18.18)\n",
      "Requirement already satisfied: jmespath<1.0.0,>=0.7.1 in /usr/local/lib/python3.7/dist-packages (from boto3->smart-open==1.8.4->embedding-as-service) (0.10.0)\n",
      "Requirement already satisfied: s3transfer<0.4.0,>=0.3.0 in /usr/local/lib/python3.7/dist-packages (from boto3->smart-open==1.8.4->embedding-as-service) (0.3.7)\n",
      "Requirement already satisfied: python-dateutil<3.0.0,>=2.1 in /usr/local/lib/python3.7/dist-packages (from botocore<1.19.0,>=1.18.18->boto3->smart-open==1.8.4->embedding-as-service) (2.8.2)\n",
      "Requirement already satisfied: cached-property in /usr/local/lib/python3.7/dist-packages (from h5py->keras==2.2.4->embedding-as-service) (1.5.2)\n",
      "Requirement already satisfied: zipp>=0.5 in /usr/local/lib/python3.7/dist-packages (from importlib-metadata->markdown>=2.6.8->tensorboard<1.16.0,>=1.15.0->tensorflow==1.15.2->embedding-as-service) (3.5.0)\n",
      "Requirement already satisfied: typing-extensions>=3.6.4 in /usr/local/lib/python3.7/dist-packages (from importlib-metadata->markdown>=2.6.8->tensorboard<1.16.0,>=1.15.0->tensorflow==1.15.2->embedding-as-service) (3.7.4.3)\n"
     ]
    }
   ],
   "source": [
    "!pip install embedding-as-service"
   ]
  },
  {
   "cell_type": "markdown",
   "metadata": {},
   "source": [
    "# Importing Libraries"
   ]
  },
  {
   "cell_type": "code",
   "execution_count": 2,
   "metadata": {
    "id": "0YHIxo0FqUmj"
   },
   "outputs": [],
   "source": [
    "import pandas as pd\n",
    "# plotting libraries\n",
    "import matplotlib.pyplot as plt\n",
    "import seaborn as sns\n",
    "# sentence feature extracter\n",
    "from embedding_as_service.text.encode import Encoder\n",
    "# light model used\n",
    "import lightgbm as lgb\n",
    "# metrics for model evaluation\n",
    "from sklearn.metrics import classification_report, confusion_matrix, accuracy_score"
   ]
  },
  {
   "cell_type": "markdown",
   "metadata": {},
   "source": [
    "# Importing Data"
   ]
  },
  {
   "cell_type": "code",
   "execution_count": 3,
   "metadata": {
    "id": "zlAOyaUaszVm"
   },
   "outputs": [],
   "source": [
    "url_1 = 'https://raw.githubusercontent.com/TeamEpicProjects/Customer_Support_Ticket_Classification/Day_04/ticket_train.csv'\n",
    "train = pd.read_csv(url_1)\n",
    "url_2 = 'https://raw.githubusercontent.com/TeamEpicProjects/Customer_Support_Ticket_Classification/Day_04/ticket_valid.csv'\n",
    "valid = pd.read_csv(url_2)"
   ]
  },
  {
   "cell_type": "markdown",
   "metadata": {},
   "source": [
    "# Glove Encoding"
   ]
  },
  {
   "cell_type": "code",
   "execution_count": 4,
   "metadata": {
    "colab": {
     "base_uri": "https://localhost:8080/"
    },
    "id": "I5z_FfeQrBqy",
    "outputId": "5c5cc3a0-10cf-4423-8a9d-5a28d623bbf7"
   },
   "outputs": [
    {
     "name": "stderr",
     "output_type": "stream",
     "text": [
      "949it [00:00, 9475.66it/s]"
     ]
    },
    {
     "name": "stdout",
     "output_type": "stream",
     "text": [
      "Loading Model (this might take few minutes).....\n"
     ]
    },
    {
     "name": "stderr",
     "output_type": "stream",
     "text": [
      "1917494it [03:12, 9966.76it/s] "
     ]
    },
    {
     "name": "stdout",
     "output_type": "stream",
     "text": [
      "Model loaded Successfully !\n"
     ]
    },
    {
     "name": "stderr",
     "output_type": "stream",
     "text": [
      "\n"
     ]
    }
   ],
   "source": [
    "glove_en = Encoder(embedding='glove', model='crawl_42B_300')"
   ]
  },
  {
   "cell_type": "markdown",
   "metadata": {},
   "source": [
    "# Encoding training datasets"
   ]
  },
  {
   "cell_type": "code",
   "execution_count": 5,
   "metadata": {
    "id": "1D1gImkYrIsw"
   },
   "outputs": [],
   "source": [
    "# encoding training dataset\n",
    "glove_train_vecs = glove_en.encode(texts = list(train['info'].values), pooling='reduce_mean')"
   ]
  },
  {
   "cell_type": "code",
   "execution_count": 6,
   "metadata": {
    "colab": {
     "base_uri": "https://localhost:8080/"
    },
    "id": "VTiA_ddiKVXt",
    "outputId": "fcb50789-060b-49e8-bbe5-3c9fe917c71a"
   },
   "outputs": [
    {
     "data": {
      "text/plain": [
       "(38839, 300)"
      ]
     },
     "execution_count": 6,
     "metadata": {},
     "output_type": "execute_result"
    }
   ],
   "source": [
    "glove_train_vecs.shape"
   ]
  },
  {
   "cell_type": "code",
   "execution_count": 7,
   "metadata": {
    "colab": {
     "base_uri": "https://localhost:8080/"
    },
    "id": "VdPToh4nIOz7",
    "outputId": "4c44a8e5-56d4-4534-9fc9-db015d57d69d"
   },
   "outputs": [
    {
     "data": {
      "text/plain": [
       "array([[-0.00873258, -0.02062719,  0.00102761, ..., -0.00081924,\n",
       "         0.01481188,  0.00082802],\n",
       "       [ 0.00426677, -0.00944219, -0.00951713, ...,  0.01251738,\n",
       "        -0.0046565 , -0.0145892 ],\n",
       "       [ 0.01545808, -0.00588574,  0.00529425, ..., -0.01456407,\n",
       "         0.02462658, -0.01413641],\n",
       "       ...,\n",
       "       [-0.00168659, -0.02215202,  0.00156873, ..., -0.00124636,\n",
       "        -0.01249491, -0.00486416],\n",
       "       [ 0.00490473, -0.0338532 , -0.00453977, ..., -0.0102833 ,\n",
       "        -0.01016372, -0.00359499],\n",
       "       [-0.04608237, -0.13203929,  0.02847104, ..., -0.07718859,\n",
       "         0.01528471, -0.02900665]])"
      ]
     },
     "execution_count": 7,
     "metadata": {},
     "output_type": "execute_result"
    }
   ],
   "source": [
    "glove_train_vecs"
   ]
  },
  {
   "cell_type": "markdown",
   "metadata": {},
   "source": [
    "## Encoding validating datasets"
   ]
  },
  {
   "cell_type": "code",
   "execution_count": 8,
   "metadata": {
    "id": "abgFyqj0IEbo"
   },
   "outputs": [],
   "source": [
    "glove_valid_vecs = glove_en.encode(texts = list(valid['info'].values), pooling='reduce_mean')"
   ]
  },
  {
   "cell_type": "code",
   "execution_count": 9,
   "metadata": {
    "colab": {
     "base_uri": "https://localhost:8080/"
    },
    "id": "wUm15hleG68Q",
    "outputId": "b8fc5ef7-9a23-411a-80fb-bb284d959cee"
   },
   "outputs": [
    {
     "data": {
      "text/plain": [
       "(4855, 300)"
      ]
     },
     "execution_count": 9,
     "metadata": {},
     "output_type": "execute_result"
    }
   ],
   "source": [
    "glove_valid_vecs.shape"
   ]
  },
  {
   "cell_type": "markdown",
   "metadata": {},
   "source": [
    "## Modelling"
   ]
  },
  {
   "cell_type": "code",
   "execution_count": 10,
   "metadata": {
    "id": "8NA0cNUJHcoF"
   },
   "outputs": [],
   "source": [
    "clf = lgb.LGBMClassifier()"
   ]
  },
  {
   "cell_type": "code",
   "execution_count": 11,
   "metadata": {
    "colab": {
     "base_uri": "https://localhost:8080/"
    },
    "id": "QlysT9n1rcAG",
    "outputId": "70ca2c68-45de-4ed6-e2d4-92303f056718"
   },
   "outputs": [
    {
     "data": {
      "text/plain": [
       "LGBMClassifier(boosting_type='gbdt', class_weight=None, colsample_bytree=1.0,\n",
       "               importance_type='split', learning_rate=0.1, max_depth=-1,\n",
       "               min_child_samples=20, min_child_weight=0.001, min_split_gain=0.0,\n",
       "               n_estimators=100, n_jobs=-1, num_leaves=31, objective=None,\n",
       "               random_state=None, reg_alpha=0.0, reg_lambda=0.0, silent=True,\n",
       "               subsample=1.0, subsample_for_bin=200000, subsample_freq=0)"
      ]
     },
     "execution_count": 11,
     "metadata": {},
     "output_type": "execute_result"
    }
   ],
   "source": [
    "clf.fit(glove_train_vecs, train['ticket_type'])"
   ]
  },
  {
   "cell_type": "code",
   "execution_count": 12,
   "metadata": {
    "id": "hZohH1ejtlkj"
   },
   "outputs": [],
   "source": [
    "y_valid_preds = clf.predict(glove_valid_vecs)"
   ]
  },
  {
   "cell_type": "markdown",
   "metadata": {},
   "source": [
    "## Model Evaluation "
   ]
  },
  {
   "cell_type": "code",
   "execution_count": 13,
   "metadata": {
    "colab": {
     "base_uri": "https://localhost:8080/",
     "height": 279
    },
    "id": "I1H4HViBtoTr",
    "outputId": "3f83960d-79a9-4360-8390-95f7cacc9b40"
   },
   "outputs": [
    {
     "data": {
      "image/png": "[encoded data removed]",
      "text/plain": [
       "<Figure size 432x288 with 2 Axes>"
      ]
     },
     "metadata": {
      "needs_background": "light"
     },
     "output_type": "display_data"
    }
   ],
   "source": [
    "con_mat = confusion_matrix(valid['ticket_type'], y_valid_preds)\n",
    "sns.heatmap(con_mat, annot=True, fmt='.0f', square=True)\n",
    "plt.xlabel('Prediction')\n",
    "plt.ylabel('Acutal')\n",
    "plt.show()"
   ]
  },
  {
   "cell_type": "code",
   "execution_count": 14,
   "metadata": {
    "colab": {
     "base_uri": "https://localhost:8080/"
    },
    "id": "Zpu-hUavtqCf",
    "outputId": "b4c39b87-3251-4866-b777-f2b63abc2274"
   },
   "outputs": [
    {
     "name": "stdout",
     "output_type": "stream",
     "text": [
      "Model accuracy score = 96.13%.\n"
     ]
    }
   ],
   "source": [
    "acc = accuracy_score(valid['ticket_type'], y_valid_preds)\n",
    "print(f'Model accuracy score = {acc*100:0.2f}%.')"
   ]
  },
  {
   "cell_type": "code",
   "execution_count": 15,
   "metadata": {
    "colab": {
     "base_uri": "https://localhost:8080/"
    },
    "id": "lENTm99rtu0r",
    "outputId": "d5b0855b-6509-4f2d-8d79-fdfcaa031d59"
   },
   "outputs": [
    {
     "name": "stdout",
     "output_type": "stream",
     "text": [
      "              precision    recall  f1-score   support\n",
      "\n",
      "           0       0.95      0.91      0.93      1393\n",
      "           1       0.96      0.98      0.97      3462\n",
      "\n",
      "    accuracy                           0.96      4855\n",
      "   macro avg       0.96      0.95      0.95      4855\n",
      "weighted avg       0.96      0.96      0.96      4855\n",
      "\n"
     ]
    }
   ],
   "source": [
    "print(classification_report(valid['ticket_type'], y_valid_preds))"
   ]
  }
 ],
 "metadata": {
  "colab": {
   "collapsed_sections": [],
   "name": "glove + lightgbm",
   "provenance": []
  },
  "kernelspec": {
   "display_name": "Python 3",
   "language": "python",
   "name": "python3"
  },
  "language_info": {
   "codemirror_mode": {
    "name": "ipython",
    "version": 3
   },
   "file_extension": ".py",
   "mimetype": "text/x-python",
   "name": "python",
   "nbconvert_exporter": "python",
   "pygments_lexer": "ipython3",
   "version": "3.8.8"
  }
 },
 "nbformat": 4,
 "nbformat_minor": 1
}
